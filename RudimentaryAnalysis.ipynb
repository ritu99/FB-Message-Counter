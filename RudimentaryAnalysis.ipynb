{
 "cells": [
  {
   "cell_type": "code",
   "execution_count": null,
   "metadata": {
    "collapsed": true
   },
   "outputs": [],
   "source": [
    "import pandas as pd\n",
    "import numpy as np\n",
    "from matplotlib import pyplot as plt\n",
    "import os\n",
    "import json\n",
    "from matplotlib.dates import date2num\n",
    "from datetime import datetime\n",
    "from matplotlib.dates import DateFormatter\n",
    "from matplotlib.ticker import FuncFormatter\n",
    "from collections import Counter\n",
    "import re"
   ]
  },
  {
   "cell_type": "code",
   "execution_count": null,
   "metadata": {
    "collapsed": true
   },
   "outputs": [],
   "source": [
    "username = \"\" #your facebook username\n",
    "_message_dir = \"facebook-\"+username+\"/messages/inbox/\"\n",
    "name = \"\" #your facebook name\n",
    "TIME_OF_DAY = [\"midnight\", \"1am\", \"2am\", \"3am\", \"4am\", \"5am\", \"6am\", \"7am\", \"8am\", \"9am\", \"10am\", \"11am\", \n",
    "                        \"noon\", \"1pm\", \"2pm\", \"3pm\", \"4pm\", \"5pm\", \"6pm\", \"7pm\", \"8pm\", \"9pm\", \"10pm\", \"11pm\", None, None]"
   ]
  },
  {
   "cell_type": "code",
   "execution_count": null,
   "metadata": {
    "collapsed": true
   },
   "outputs": [],
   "source": [
    "people = {}\n",
    "for folder in os.listdir(_message_dir):\n",
    "    folder_name = folder.split(\"_\")[0]\n",
    "    with open(_message_dir + folder + \"/message.json\") as f:\n",
    "        j = json.load(f)\n",
    "    g_name = \", \".join([i['name'] for i in j['participants'] if not i['name'] == name])\n",
    "    if g_name.lower().replace(\" \", \"\") != folder_name: \n",
    "        g_name = folder_name\n",
    "    people[g_name] = folder"
   ]
  },
  {
   "cell_type": "code",
   "execution_count": null,
   "metadata": {
    "collapsed": true
   },
   "outputs": [],
   "source": [
    "def retrieve_timestamps(person):\n",
    "    with open(_message_dir + people[person] + \"/message.json\") as f:\n",
    "        j = json.load(f)\n",
    "    \n",
    "    timestamps = [(message['sender_name'], datetime.fromtimestamp(message['timestamp_ms']/1000)) for message in j['messages']]\n",
    "    return sorted(timestamps, key= lambda x: x[1])\n",
    "\n",
    "def retrieve_messages(person):\n",
    "    with open(_message_dir + people[person] + \"/message.json\") as f:\n",
    "        j = json.load(f)\n",
    "    \n",
    "    timestamps = [(message['sender_name'], datetime.fromtimestamp(message['timestamp_ms']/1000), message['content'] if 'content' in message else '') for message in j['messages']]\n",
    "    return sorted(timestamps, key= lambda x: x[1])"
   ]
  },
  {
   "cell_type": "code",
   "execution_count": null,
   "metadata": {
    "collapsed": true
   },
   "outputs": [],
   "source": [
    "def cumulative_timestamp(timestamps, start = datetime.fromtimestamp(100000), end = datetime.now()):\n",
    "    if isinstance(timestamps, str):\n",
    "        timestamps = retrieve_timestamps(timestamps)\n",
    "    times = date2num([time for (name, time) in timestamps if time > start and time < end])\n",
    "    count = [i for i in range(1, len(times) + 1)]\n",
    "    fig, ax = plt.subplots()\n",
    "    plot = ax.plot(times, count)\n",
    "    ax.xaxis.set_major_formatter(DateFormatter(\"%m/%y\")); \n",
    "    return plot\n",
    "\n",
    "def YOY(timestamps, start = datetime.fromtimestamp(100000), end = datetime.now()):\n",
    "    if isinstance(timestamps, str):\n",
    "        timestamps = retrieve_timestamps(timestamps)\n",
    "    dates = [time.date() for (name, time) in timestamps if time >= start and time < end]\n",
    "    years = sorted(set([date.year for date in dates]))\n",
    "    yoy_data = {}\n",
    "    for year in years:\n",
    "        year_data = [date.timetuple().tm_yday for date in dates if date.year == year]\n",
    "        yoy_data[year] = [year_data, np.arange(1, len(year_data) + 1)]\n",
    "    fig, ax = plt.subplots()\n",
    "    labels = []\n",
    "    lines = []\n",
    "    for year in years:\n",
    "        line, = ax.plot(yoy_data[year][0], yoy_data[year][1])\n",
    "        lines.append(line)\n",
    "        labels.append(str(year))\n",
    "    ax.legend(lines, labels)\n",
    "    return (fig, ax, lines)"
   ]
  },
  {
   "cell_type": "code",
   "execution_count": null,
   "metadata": {
    "collapsed": true
   },
   "outputs": [],
   "source": [
    "#months is list of tuples where first element is 0 indexed month and second is year\n",
    "def month_compare(timestamps, selected_months = []):\n",
    "    if isinstance(timestamps, str):\n",
    "        timestamps = retrieve_timestamps(timestamps)\n",
    "    dates = [time for (name, time) in timestamps]\n",
    "    data = {}\n",
    "    for (month, year) in selected_months: \n",
    "        date_data = [date.day for date in dates if date.year == year and date.month == month]\n",
    "        count = Counter(date_data)\n",
    "        data[str(month) + \"/\" + str(year)] = [count[i] for i in range(0, 32) if count[i] != 0]\n",
    "    fig, ax = plt.subplots()\n",
    "    labels = []\n",
    "    lines = []\n",
    "    for month in data:\n",
    "        line = ax.scatter(np.arange(1, len(data[month]) + 1), np.cumsum(data[month]))\n",
    "        lines.append(line)\n",
    "        labels.append(month)\n",
    "    ax.legend(lines, labels)\n",
    "    return (fig, ax, lines)"
   ]
  },
  {
   "cell_type": "code",
   "execution_count": null,
   "metadata": {
    "collapsed": true
   },
   "outputs": [],
   "source": [
    "def histograph(timestamps, func = lambda x: x, start = datetime.fromtimestamp(100000), end = datetime.now()):\n",
    "    if isinstance(timestamps, str):\n",
    "        timestamps = retrieve_timestamps(timestamps)\n",
    "    data = [func(time) for (name, time) in timestamps if time >= start and time < end]\n",
    "    count = dict(sorted(Counter(data).items()))\n",
    "    fig, ax = plt.subplots()\n",
    "    plot = ax.plot(list(count.keys()), list(count.values()))\n",
    "    return (fig, ax, plot)\n",
    "\n",
    "def format_for_hour(fig, ax, plot):\n",
    "    ax.xaxis.set_major_formatter(FuncFormatter(lambda x, pos: TIME_OF_DAY[int(x)]))\n",
    "    return (fig, ax, plot)"
   ]
  },
  {
   "cell_type": "code",
   "execution_count": null,
   "metadata": {
    "collapsed": true
   },
   "outputs": [],
   "source": [
    "person = \"\" #person name or groupchat (if groupchat remove all spaces in the name)"
   ]
  },
  {
   "cell_type": "markdown",
   "metadata": {},
   "source": [
    "### last semester"
   ]
  },
  {
   "cell_type": "code",
   "execution_count": null,
   "metadata": {
    "scrolled": true
   },
   "outputs": [],
   "source": [
    "format_for_hour(*histograph(retrieve_timestamps(person), func = lambda x: x.hour))\n",
    "cumulative_timestamp(person)\n",
    "# histograph(retrieve_timestamps(person), func = lambda x: x.date())\n",
    "plt.show()"
   ]
  },
  {
   "cell_type": "markdown",
   "metadata": {},
   "source": [
    "### this semester"
   ]
  },
  {
   "cell_type": "code",
   "execution_count": null,
   "metadata": {},
   "outputs": [],
   "source": [
    "format_for_hour(*histograph(retrieve_timestamps(person), start=datetime(year = 2019, day=22, month=1), func = lambda x: x.hour))\n",
    "cumulative_timestamp(retrieve_timestamps(person), start=datetime(year = 2019, day=22, month=1))\n",
    "plt.show()"
   ]
  },
  {
   "cell_type": "markdown",
   "metadata": {},
   "source": [
    "### last semester"
   ]
  },
  {
   "cell_type": "code",
   "execution_count": null,
   "metadata": {},
   "outputs": [],
   "source": [
    "format_for_hour(*histograph(retrieve_timestamps(person), start=datetime(year = 2018, day=27, month=8), end=datetime(year = 2018, day=18, month=12), func = lambda x: x.hour))\n",
    "cumulative_timestamp(retrieve_timestamps(person), start=datetime(year = 2018, day=27, month=8), end=datetime(year = 2018, day=18, month=12))\n",
    "plt.show()"
   ]
  },
  {
   "cell_type": "markdown",
   "metadata": {},
   "source": [
    "### summer"
   ]
  },
  {
   "cell_type": "code",
   "execution_count": null,
   "metadata": {},
   "outputs": [],
   "source": [
    "format_for_hour(*histograph(retrieve_timestamps(person), start=datetime(year = 2018, day=29, month=5), end=datetime(year = 2018, day=17, month=8), func = lambda x: x.hour))\n",
    "cumulative_timestamp(retrieve_timestamps(person), start=datetime(year = 2018, day=29, month=5), end=datetime(year = 2018, day=17, month=8))\n",
    "plt.show()"
   ]
  },
  {
   "cell_type": "code",
   "execution_count": null,
   "metadata": {},
   "outputs": [],
   "source": [
    "YOY(retrieve_timestamps(person))\n",
    "month_compare(person, selected_months = [(3, 2015), (3, 2016), (3, 2017), (3, 2018), (3, 2019)])\n",
    "plt.show()"
   ]
  },
  {
   "cell_type": "markdown",
   "metadata": {},
   "source": [
    "### haha distribution"
   ]
  },
  {
   "cell_type": "code",
   "execution_count": null,
   "metadata": {
    "collapsed": true
   },
   "outputs": [],
   "source": [
    "haha_messages = []\n",
    "for (sender, timestamp, content) in retrieve_messages(person):\n",
    "    messages = re.findall(\"[aAHh]{3,}\", content)\n",
    "    for message in messages:\n",
    "        if re.search('(.)\\\\1\\\\1', message) is None:\n",
    "            haha_messages.append(message)"
   ]
  },
  {
   "cell_type": "code",
   "execution_count": null,
   "metadata": {
    "collapsed": true
   },
   "outputs": [],
   "source": [
    "len_haha = np.array([len(haha) for haha in haha_messages])"
   ]
  },
  {
   "cell_type": "code",
   "execution_count": null,
   "metadata": {},
   "outputs": [],
   "source": [
    "plt.hist(len_haha, bins=np.arange(min(len_haha), max(len_haha)+1))\n",
    "plt.show()"
   ]
  },
  {
   "cell_type": "code",
   "execution_count": null,
   "metadata": {
    "collapsed": true
   },
   "outputs": [],
   "source": [
    "def remove_outliers_std(data, m=3):\n",
    "    return data[abs(data - np.mean(data)) < m * np.std(data)]"
   ]
  },
  {
   "cell_type": "code",
   "execution_count": null,
   "metadata": {},
   "outputs": [],
   "source": [
    "len_haha = remove_outliers_std(len_haha)\n",
    "plt.hist(len_haha, bins=np.arange(min(len_haha), max(len_haha)+1, 2))\n",
    "plt.show()"
   ]
  },
  {
   "cell_type": "markdown",
   "metadata": {},
   "source": [
    "### message response distribution"
   ]
  },
  {
   "cell_type": "code",
   "execution_count": null,
   "metadata": {},
   "outputs": [],
   "source": [
    "ts = [ts for (name, ts) in retrieve_timestamps(person)]\n",
    "dist = [ (x - y).total_seconds() for (x, y) in zip(ts[1:], ts)]\n",
    "plt.hist( dist, log=True )\n",
    "plt.show()"
   ]
  },
  {
   "cell_type": "code",
   "execution_count": null,
   "metadata": {},
   "outputs": [],
   "source": [
    "ts = retrieve_timestamps(person)\n",
    "true_dist = [ (ts2 - ts1).total_seconds() for ((name1, ts1), (name2, ts2)) in zip(ts, ts[1:]) if name1 != name2 and (ts2 - ts1).total_seconds()/60/60 < 12]\n",
    "len(true_dist)/len(ts)"
   ]
  },
  {
   "cell_type": "code",
   "execution_count": null,
   "metadata": {},
   "outputs": [],
   "source": [
    "plt.hist(true_dist)\n",
    "plt.show()"
   ]
  }
 ],
 "metadata": {
  "kernelspec": {
   "display_name": "Python 3",
   "language": "python",
   "name": "python3"
  },
  "language_info": {
   "codemirror_mode": {
    "name": "ipython",
    "version": 3
   },
   "file_extension": ".py",
   "mimetype": "text/x-python",
   "name": "python",
   "nbconvert_exporter": "python",
   "pygments_lexer": "ipython3",
   "version": "3.6.2"
  }
 },
 "nbformat": 4,
 "nbformat_minor": 2
}
